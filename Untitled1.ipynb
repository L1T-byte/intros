{
  "nbformat": 4,
  "nbformat_minor": 0,
  "metadata": {
    "colab": {
      "name": "Untitled1.ipynb",
      "provenance": [],
      "authorship_tag": "ABX9TyOI6uov+5HItRJIikpTlMeo",
      "include_colab_link": true
    },
    "kernelspec": {
      "name": "python3",
      "display_name": "Python 3"
    },
    "language_info": {
      "name": "python"
    }
  },
  "cells": [
    {
      "cell_type": "markdown",
      "metadata": {
        "id": "view-in-github",
        "colab_type": "text"
      },
      "source": [
        "<a href=\"https://colab.research.google.com/github/L1T-byte/intros/blob/main/Untitled1.ipynb\" target=\"_parent\"><img src=\"https://colab.research.google.com/assets/colab-badge.svg\" alt=\"Open In Colab\"/></a>"
      ]
    },
    {
      "cell_type": "code",
      "metadata": {
        "id": "8nTfWYnDApL6",
        "colab": {
          "base_uri": "https://localhost:8080/"
        },
        "outputId": "119373de-7939-498c-a5e8-77ebf8ad46d7"
      },
      "source": [
        "a = 33\n",
        "b = 200\n",
        "\n",
        "if a< b:\n",
        "  print(\" a is less then b\")\n",
        "\n",
        "if a > 0:\n",
        "    print(\" a is below 18\")\n",
        "\n",
        "if a < b:\n",
        "      print(\" a is below b\")\n",
        "\n",
        "elif a == b:\n",
        "      print(\" a is equal b\")\n",
        "\n",
        "else:\n",
        "        print(\"if nothing else is true print this\")\n",
        "\n",
        "        print(\"THE END\")"
      ],
      "execution_count": null,
      "outputs": [
        {
          "output_type": "stream",
          "text": [
            " a is less then b\n",
            " a is below 18\n",
            " a is below b\n"
          ],
          "name": "stdout"
        }
      ]
    },
    {
      "cell_type": "code",
      "metadata": {
        "colab": {
          "base_uri": "https://localhost:8080/"
        },
        "id": "vdVa6Yk8i_KC",
        "outputId": "7d46cdf3-510f-4967-a8dd-8b239a214568"
      },
      "source": [
        "def myFunction(a, b, c):\n",
        "  print(a, b, c)\n",
        "\n",
        "myFunction(1, 2, 3)"
      ],
      "execution_count": 4,
      "outputs": [
        {
          "output_type": "stream",
          "text": [
            "1 2 3\n"
          ],
          "name": "stdout"
        }
      ]
    },
    {
      "cell_type": "code",
      "metadata": {
        "colab": {
          "base_uri": "https://localhost:8080/"
        },
        "id": "QYxlJ155WEQc",
        "outputId": "498844cd-d8f0-43a5-99fe-ddbb06396b2a"
      },
      "source": [
        "firstname = \"John\"\n",
        "other_firstname = \"Not John\"\n",
        "\n",
        "if firstname == other_firstname:\n",
        "  print(\"both first names are euqal\")\n",
        "else:\n",
        "    print(\"both first names are different\")\n",
        "\n",
        "    print(\"THE END\")"
      ],
      "execution_count": null,
      "outputs": [
        {
          "output_type": "stream",
          "text": [
            "both first names are different\n",
            "THE END\n"
          ],
          "name": "stdout"
        }
      ]
    },
    {
      "cell_type": "code",
      "metadata": {
        "colab": {
          "base_uri": "https://localhost:8080/"
        },
        "id": "iPbdr9WrjmX2",
        "outputId": "8a7a1143-063f-4118-d1df-85fc7fd60ff7"
      },
      "source": [
        "def introduction(firstName, lastName):\n",
        "  print(\"Hello, my name is\", firstName, lastName)\n",
        "\n",
        "introduction(\"Luke\", \"Skywalker\")\n",
        "introduction(\"Jesse\", \"Quick\")\n",
        "introduction(\"Clark\", \"Kent\")"
      ],
      "execution_count": 5,
      "outputs": [
        {
          "output_type": "stream",
          "text": [
            "Hello, my name is Luke Skywalker\n",
            "Hello, my name is Jesse Quick\n",
            "Hello, my name is Clark Kent\n"
          ],
          "name": "stdout"
        }
      ]
    },
    {
      "cell_type": "code",
      "metadata": {
        "colab": {
          "base_uri": "https://localhost:8080/"
        },
        "id": "UevWwsKqk0hK",
        "outputId": "6552c3b8-de78-4167-fed2-7415d15c4b7c"
      },
      "source": [
        "def hiAll(name1, name2):\n",
        "    print(\"Hi,\", name2)\n",
        "    print(\"Hi,\", name1)\n",
        "hiAll(\"Sebastian\", \"Konrad\")"
      ],
      "execution_count": 6,
      "outputs": [
        {
          "output_type": "stream",
          "text": [
            "Hi, Konrad\n",
            "Hi, Sebastian\n"
          ],
          "name": "stdout"
        }
      ]
    },
    {
      "cell_type": "code",
      "metadata": {
        "colab": {
          "base_uri": "https://localhost:8080/"
        },
        "id": "6Vvw9wQmmdVL",
        "outputId": "0ae9be18-6138-4f15-e991-134516160fcb"
      },
      "source": [
        "def address(street, city, postalCode):\n",
        "  print(\"Your address is:\", street, \"St.\", city, postalCode)\n",
        "\n",
        "s = input(\"Street: \")\n",
        "pC = input(\"Postal Code: \")\n",
        "c = input(\"City: \")\n",
        "\n",
        "address(s, c, pC)"
      ],
      "execution_count": 8,
      "outputs": [
        {
          "output_type": "stream",
          "text": [
            "Street: burdett\n",
            "Postal Code: e1323\n",
            "City: lond\n",
            "Your address is: burdett St. lond e1323\n"
          ],
          "name": "stdout"
        }
      ]
    },
    {
      "cell_type": "code",
      "metadata": {
        "colab": {
          "base_uri": "https://localhost:8080/"
        },
        "id": "M0eGbEiinKrE",
        "outputId": "0b7699e1-e1eb-490e-d96e-1acc69e4b31b"
      },
      "source": [
        "def subtra(a, b):\n",
        "    print(a - b)\n",
        "subtra(5, b=2)    # outputs: 3\n",
        "subtra(5, 2)    # outputs: 3"
      ],
      "execution_count": 9,
      "outputs": [
        {
          "output_type": "stream",
          "text": [
            "3\n",
            "3\n"
          ],
          "name": "stdout"
        }
      ]
    },
    {
      "cell_type": "code",
      "metadata": {
        "colab": {
          "base_uri": "https://localhost:8080/"
        },
        "id": "vUj8VXVfsbI3",
        "outputId": "bd2cd503-0dfd-45c8-8ecd-87e56fe79c3e"
      },
      "source": [
        "def isItATriangle(a, b, c):\n",
        "    return a + b > c and b + c > a and c + a > b\n",
        "a = float(input(\"Enter the first side's length: \"))\n",
        "b = float(input(\"Enter the second side's length: \"))\n",
        "c = float(input(\"Enter the third side's length: \"))\n",
        "if isItATriangle(a, b, c):\n",
        "    print(\"Congratulations - it can be a triangle.\")\n",
        "else:\n",
        "    print(\"Sorry, it won't be a triangle.\")"
      ],
      "execution_count": 10,
      "outputs": [
        {
          "output_type": "stream",
          "text": [
            "Enter the first side's length: 23\n",
            "Enter the second side's length: 17\n",
            "Enter the third side's length: 15\n",
            "Congratulations - it can be a triangle.\n"
          ],
          "name": "stdout"
        }
      ]
    },
    {
      "cell_type": "code",
      "metadata": {
        "colab": {
          "base_uri": "https://localhost:8080/",
          "height": 330
        },
        "id": "D20IoWQCtZFv",
        "outputId": "75fa2758-239c-4893-a793-107570787db8"
      },
      "source": [
        "from scipy.stats import binom,norm,beta,expon\n",
        "import numpy as np\n",
        "import matplotlib.pyplot as plt\n",
        "binom_sim = binom.rvs(n=10, p=0.3, size=10000)\n",
        "print('Data:',binom_sim)\n",
        "print('Mean: %g' % np.mean(binom_sim))\n",
        "print('SD: %g' % np.std(binom_sim, ddof=1))\n",
        "plt.hist(binom_sim, bins=10)\n",
        "plt.xlabel('x')\n",
        "plt.ylabel('density')\n",
        "plt.show()"
      ],
      "execution_count": 11,
      "outputs": [
        {
          "output_type": "stream",
          "text": [
            "Data: [4 4 6 ... 6 5 4]\n",
            "Mean: 3.0131\n",
            "SD: 1.44891\n"
          ],
          "name": "stdout"
        },
        {
          "output_type": "display_data",
          "data": {
            "image/png": "[encoded data removed]",
            "text/plain": [
              "<Figure size 432x288 with 1 Axes>"
            ]
          },
          "metadata": {
            "tags": [],
            "needs_background": "light"
          }
        }
      ]
    }
  ]
}